{
 "cells": [
  {
   "cell_type": "markdown",
   "metadata": {},
   "source": [
    "The computation, algorithm and data collection procedures for this notebook are referenced from\n",
    "_Building height estimation using Google Earth_ By\n",
    "\n",
    "Feng Qi, John Z. Zhai , Gaihong Dang\n"
   ]
  },
  {
   "cell_type": "markdown",
   "metadata": {},
   "source": [
    "# Module Imports\n"
   ]
  },
  {
   "cell_type": "code",
   "execution_count": 2,
   "metadata": {},
   "outputs": [],
   "source": [
    "import math\n",
    "from datetime import date\n",
    "\n",
    "import matplotlib.pyplot as plt\n",
    "import numpy as np"
   ]
  },
  {
   "cell_type": "markdown",
   "metadata": {},
   "source": [
    "# Computation\n"
   ]
  },
  {
   "cell_type": "code",
   "execution_count": 3,
   "metadata": {},
   "outputs": [],
   "source": [
    "# constants\n",
    "\n",
    "LA2B = 9.25\n",
    "LA1A2 = 3.16\n",
    "ALPHA_SA = 128.10  # degrees\n",
    "ALPHA_S = 145.66  # degrees\n",
    "LAT = 30.26\n",
    "DATE = date(2012, 3, 31)\n"
   ]
  },
  {
   "cell_type": "markdown",
   "metadata": {},
   "source": [
    "## Solar Declination\n",
    "\n",
    "##### $$ \\delta = 0.3723 + 23.2567 \\sin w + 0.1149 \\sin 2w - 0.1712 \\sin 3w − 0.7580 \\cos w + 0.3656 \\cos 2w + 0.0201 \\cos 3w$$\n",
    "\n",
    "$$ w = \\frac{360(n - n\\_{0} - 0.5)}{365.2422} $$\n",
    "$$ n_0 = 78.801 + 0.2422(YEAR − 1969) − INT(0.25(YEAR − 1969)) w $$\n"
   ]
  },
  {
   "cell_type": "code",
   "execution_count": 4,
   "metadata": {},
   "outputs": [
    {
     "data": {
      "text/plain": [
       "4.032723851690243"
      ]
     },
     "execution_count": 4,
     "metadata": {},
     "output_type": "execute_result"
    }
   ],
   "source": [
    "def compute_solar_declination(d):\n",
    "    n_0 = 78.801 + 0.2422 * (d.year - 1969) - int(0.25 * (d.year - 1969))\n",
    "    n = (d - date(d.year, 1, 1)).days\n",
    "    w = 360 * (n - n_0 - 0.5) / 365.2422\n",
    "    w = math.radians(w)\n",
    "    delta = (\n",
    "        0.3723\n",
    "        + 23.2567 * math.sin(w)\n",
    "        + 0.1149 * math.sin(2 * w)\n",
    "        - 0.1712 * math.sin(3 * w)\n",
    "        - 0.7580 * math.cos(w)\n",
    "        + 0.3656 * math.cos(2 * w)\n",
    "        + 0.0201 * math.cos(3 * w)\n",
    "    )\n",
    "    return delta\n"
   ]
  },
  {
   "cell_type": "markdown",
   "metadata": {},
   "source": [
    "## Solar Hour Angle\n",
    "\n",
    "$$ \\Omega =   \\left\\{\n",
    "\\begin{array}{ll}\n",
    "      min(\\arccos (\\frac{-b + \\sqrt{b^2 - 4ac}}{2a}),\\\\ \n",
    "            \\quad \\quad \\ \\arccos (\\frac{-b - \\sqrt{b^2 - 4ac}}{2a}) ) \\quad in \\ the \\ morning \\\\ \\\\\n",
    "      -min(\\arccos (\\frac{-b + \\sqrt{b^2 - 4ac}}{2a}),\\\\ \n",
    "            \\quad \\quad \\quad \\arccos (\\frac{-b - \\sqrt{b^2 - 4ac}}{2a}) ) \\quad in \\ the \\ afternoon \\\\\n",
    "\\end{array} \n",
    "\\right.  $$\n",
    "\n",
    "<br>\n",
    "\n",
    "$$a = \\tan ^2 \\alpha_{s} \\sin^2 \\phi + 1$$\n",
    "$$b = − \\sin 2 \\phi \\tan \\delta \\tan^2 \\alpha_s $$\n",
    "$$c = \\tan^2 \\alpha_s \\cos^2 \\phi tan^2 \\delta − 1 $$"
   ]
  },
  {
   "cell_type": "code",
   "execution_count": 5,
   "metadata": {},
   "outputs": [],
   "source": [
    "def get_solarhourangle(alpha, phi, delta, isMorning=True):\n",
    "    alpha, phi, delta = math.radians(alpha), math.radians(phi), math.radians(delta)\n",
    "    a = (math.tan(alpha) ** 2) * (math.sin(phi) ** 2) + 1\n",
    "    b = -math.sin(2 * phi) * math.tan(delta) * (math.tan(alpha) ** 2)\n",
    "    c = (math.tan(alpha) ** 2) * (math.cos(phi) ** 2) * (math.tan(delta) ** 2) - 1\n",
    "\n",
    "    gamma = min(\n",
    "        math.acos((-b + math.sqrt(b ** 2 - 4 * a * c)) / (2 * a)),\n",
    "        math.acos((-b - math.sqrt(b ** 2 - 4 * a * c)) / (2 * a)),\n",
    "    )\n",
    "\n",
    "    if not isMorning:\n",
    "        gamma *= -1\n",
    "\n",
    "    return math.degrees(gamma)\n"
   ]
  },
  {
   "cell_type": "markdown",
   "metadata": {},
   "source": [
    "## Solar Elevation\n",
    "\n",
    "$$ h_s = \\arcsin ( \\sin \\phi \\sin \\delta + \\cos \\phi \\cos \\delta \\cos \\Omega) $$\n"
   ]
  },
  {
   "cell_type": "code",
   "execution_count": 6,
   "metadata": {},
   "outputs": [
    {
     "data": {
      "text/plain": [
       "59.37535185737855"
      ]
     },
     "execution_count": 6,
     "metadata": {},
     "output_type": "execute_result"
    }
   ],
   "source": [
    "def get_solarelevation(phi, delta, omega):\n",
    "    phi, delta, omega = math.radians(phi), math.radians(delta), math.radians(omega)\n",
    "    h_s = math.asin(\n",
    "        math.sin(phi) * math.sin(delta)\n",
    "        + math.cos(phi) * math.cos(delta) * math.cos(omega)\n",
    "    )\n",
    "    return math.degrees(h_s)\n"
   ]
  },
  {
   "cell_type": "markdown",
   "metadata": {},
   "source": [
    "## $R_{HS}$ and $R_{CS}$\n",
    "\n",
    "\n",
    "$$ L_{A1A2} =  \\sqrt{L_{A1B}^2 + L_{A2B}^2 - 2L_{A1B}L_{A2B} \\cos (\\alpha_s - \\alpha_sA)} $$ \n",
    "$$ H = \\tan h_s (L_{A2B} \\cos (\\alpha_{s} - \\alpha_{sA}) + \\sqrt{L_{A1A2}^2 - L_{A2B}^2 \\sin^2 (\\alpha_s - \\alpha_sA)})$$\n",
    "\n",
    "$$ R_{HS} = \\frac{H}{L_{A2B}} $$\n",
    "$$ R_{CS} = \\frac{H}{L_{A1A2}} $$\n"
   ]
  },
  {
   "cell_type": "code",
   "execution_count": 7,
   "metadata": {},
   "outputs": [
    {
     "data": {
      "text/plain": [
       "(2.1607249251222003, 6.324906821955808)"
      ]
     },
     "execution_count": 7,
     "metadata": {},
     "output_type": "execute_result"
    }
   ],
   "source": [
    "def get_La1a2(a2b, a1b, alpha_s, alpha_sa):\n",
    "    alpha_diff = math.radians(alpha_s - alpha_sa)\n",
    "    a1a2_square = (a2b ** 2) + (a1b ** 2) - (2 * a1b * a2b * math.cos(alpha_diff))\n",
    "    return math.sqrt(a1a2_square)\n",
    "\n",
    "\n",
    "def get_ratios(hs, alpha_s, alpha_sa, la2b, la1a2):\n",
    "    hs, alpha_diff = math.radians(hs), math.radians(alpha_s - alpha_sa)\n",
    "\n",
    "    H = math.tan(hs) * (\n",
    "        la2b * math.cos(alpha_diff)\n",
    "        + math.sqrt((la1a2 ** 2) - (la1a2 ** 2) * (math.sin(alpha_diff) ** 2))\n",
    "    )\n",
    "    return H / la2b, H / la1a2\n"
   ]
  },
  {
   "cell_type": "markdown",
   "metadata": {},
   "source": [
    "## Height Estimation\n",
    "\n",
    "$$ H = R_{HS}L_{A2B} $$\n",
    "$$ H = R_{CS}L_{A1B1} $$\n"
   ]
  },
  {
   "cell_type": "code",
   "execution_count": 8,
   "metadata": {},
   "outputs": [
    {
     "name": "stdout",
     "output_type": "stream",
     "text": [
      "Estimated Heights: [19.47, 19.99, 19.73, 19.77, 20.44, 21.22, 20.76, 19.97, 15.92, 15.47, 15.64, 16.7, 13.16, 14.24, 14.17, 16.81, 17.0]\n",
      "Actual Heights:    [19.56, 18.13, 16.25, 18.52, 19.24, 18.69, 19.48, 18.45, 14.91, 14.08, 14.94, 15.21, 12.94, 14.07, 13.64, 15.4, 16.37]\n",
      "Mean absolute error: 1.2211764705882353\n"
     ]
    }
   ],
   "source": [
    "def estimate_height(length, ratio):\n",
    "    return length * ratio\n",
    "\n",
    "\n",
    "actual_height = [\n",
    "    19.56,\n",
    "    18.13,\n",
    "    16.25,\n",
    "    18.52,\n",
    "    19.24,\n",
    "    18.69,\n",
    "    19.48,\n",
    "    18.45,\n",
    "    14.91,\n",
    "    14.08,\n",
    "    14.94,\n",
    "    15.21,\n",
    "    12.94,\n",
    "    14.07,\n",
    "    13.64,\n",
    "    15.40,\n",
    "    16.37,\n",
    "]\n",
    "\n",
    "heights = [\n",
    "    9.01,\n",
    "    9.25,\n",
    "    9.13,\n",
    "    9.15,\n",
    "    9.46,\n",
    "    9.82,\n",
    "    9.61,\n",
    "    9.24,\n",
    "    7.37,\n",
    "    7.16,\n",
    "    7.24,\n",
    "    7.73,\n",
    "    6.09,\n",
    "    6.59,\n",
    "    6.56,\n",
    "    7.78,\n",
    "    7.87,\n",
    "]\n",
    "\n",
    "error = []\n",
    "estimations = []\n",
    "for h, y in zip(heights, actual_height):\n",
    "    h = round(estimate_height(h, rhs), 2)\n",
    "    estimations.append(h)\n",
    "    error.append(h - y)\n",
    "\n",
    "print(\"Estimated Heights:\", estimations)\n",
    "print(\"Actual Heights:   \", actual_height)\n",
    "\n",
    "print(\"Mean absolute error:\", sum([abs(x) for x in error]) / len(error))\n"
   ]
  },
  {
   "cell_type": "code",
   "execution_count": 22,
   "metadata": {},
   "outputs": [
    {
     "data": {
      "image/png": "[encoded data removed]",
      "text/plain": [
       "<Figure size 432x288 with 1 Axes>"
      ]
     },
     "metadata": {
      "needs_background": "light"
     },
     "output_type": "display_data"
    }
   ],
   "source": [
    "best_fit = np.polyfit(actual_height, estimations, 1)\n",
    "best_fit\n",
    "best_fit[0] * np.array(actual_height) + best_fit[1]\n",
    "plt.scatter(actual_height, estimations)\n",
    "plt.plot(actual_height, best_fit[0] * np.array(actual_height) + best_fit[1])\n",
    "plt.show()\n"
   ]
  },
  {
   "cell_type": "code",
   "execution_count": null,
   "metadata": {},
   "outputs": [],
   "source": []
  }
 ],
 "metadata": {
  "interpreter": {
   "hash": "edfc05b9e597d528a1b02a1f9b9e12f45087c2ac2fbe7b8c058655edf824aeae"
  },
  "kernelspec": {
   "display_name": "Python 3 (ipykernel)",
   "language": "python",
   "name": "python3"
  },
  "language_info": {
   "codemirror_mode": {
    "name": "ipython",
    "version": 3
   },
   "file_extension": ".py",
   "mimetype": "text/x-python",
   "name": "python",
   "nbconvert_exporter": "python",
   "pygments_lexer": "ipython3",
   "version": "3.8.12"
  }
 },
 "nbformat": 4,
 "nbformat_minor": 2
}
