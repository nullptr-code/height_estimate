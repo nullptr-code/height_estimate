{
 "cells": [
  {
   "cell_type": "markdown",
   "metadata": {},
   "source": [
    "The computation, algorithm and data collection procedures for this notebook are referenced from\n",
    "_Building height estimation using Google Earth_ By\n",
    "\n",
    "Feng Qi, John Z. Zhai , Gaihong Dang\n"
   ]
  },
  {
   "cell_type": "markdown",
   "metadata": {},
   "source": [
    "# Module Imports\n"
   ]
  },
  {
   "cell_type": "code",
   "execution_count": 165,
   "metadata": {},
   "outputs": [],
   "source": [
    "import math\n",
    "from datetime import date\n",
    "\n",
    "import matplotlib.pyplot as plt\n"
   ]
  },
  {
   "cell_type": "markdown",
   "metadata": {},
   "source": [
    "# Computation\n"
   ]
  },
  {
   "cell_type": "code",
   "execution_count": 97,
   "metadata": {},
   "outputs": [],
   "source": [
    "# constants\n",
    "\n",
    "LA2B = 9.25\n",
    "LA1A2 = 3.16\n",
    "ALPHA_SA = 128.10  # degrees\n",
    "ALPHA_S = 145.66  # degrees\n",
    "LAT = 30.26\n",
    "DATE = date(2012, 3, 31)\n"
   ]
  },
  {
   "cell_type": "markdown",
   "metadata": {},
   "source": [
    "## Solar Declination\n",
    "\n",
    "##### $$ \\delta = 0.3723 + 23.2567 \\sin w + 0.1149 \\sin 2w - 0.1712 \\sin 3w − 0.7580 \\cos w + 0.3656 \\cos 2w + 0.0201 \\cos 3w$$\n",
    "\n",
    "$$ w = \\frac{360(n - n\\_{0} - 0.5)}{365.2422} $$\n",
    "$$ n_0 = 78.801 + 0.2422(YEAR − 1969) − INT(0.25(YEAR − 1969)) w $$\n"
   ]
  },
  {
   "cell_type": "code",
   "execution_count": 132,
   "metadata": {},
   "outputs": [
    {
     "data": {
      "text/plain": [
       "4.419413478129631"
      ]
     },
     "execution_count": 132,
     "metadata": {},
     "output_type": "execute_result"
    }
   ],
   "source": [
    "def compute_solar_declination(d):\n",
    "    n_0 = 78.801 + 0.2422 * (d.year - 1969) - int(0.25 * (d.year - 1969))\n",
    "    n = (d - date(d.year, 1, 1)).days + 1\n",
    "    w = 360 * (n - n_0 - 0.5) / 365.2422\n",
    "    w = math.radians(w)\n",
    "    delta = (\n",
    "        0.3723\n",
    "        + 23.2567 * math.sin(w)\n",
    "        + 0.1149 * math.sin(2 * w)\n",
    "        - 0.1712 * math.sin(3 * w)\n",
    "        - 0.7580 * math.cos(w)\n",
    "        + 0.3656 * math.cos(2 * w)\n",
    "        + 0.0201 * math.cos(3 * w)\n",
    "    )\n",
    "    return delta\n",
    "\n",
    "\n",
    "delta = compute_solar_declination(DATE)\n",
    "delta\n"
   ]
  },
  {
   "cell_type": "markdown",
   "metadata": {},
   "source": [
    "## Solar Hour Angle\n",
    "\n",
    "$$ \\Omega =   \\left\\{\n",
    "\\begin{array}{ll}\n",
    "      min(\\arccos (\\frac{-b + \\sqrt{b^2 - 4ac}}{2a}),\\\\ \n",
    "            \\quad \\quad \\ \\arccos (\\frac{-b - \\sqrt{b^2 - 4ac}}{2a}) ) \\quad in \\ the \\ morning \\\\ \\\\\n",
    "      -min(\\arccos (\\frac{-b + \\sqrt{b^2 - 4ac}}{2a}),\\\\ \n",
    "            \\quad \\quad \\quad \\arccos (\\frac{-b - \\sqrt{b^2 - 4ac}}{2a}) ) \\quad in \\ the \\ afternoon \\\\\n",
    "\\end{array} \n",
    "\\right.  $$\n",
    "\n",
    "<br>\n",
    "\n",
    "$$a = \\tan ^2 \\alpha_{s} \\sin^2 \\phi + 1$$\n",
    "$$b = − \\sin 2 \\phi \\tan \\delta \\tan^2 \\alpha_s $$\n",
    "$$c = \\tan^2 \\alpha_s \\cos^2 \\phi tan^2 \\delta − 1 $$"
   ]
  },
  {
   "cell_type": "code",
   "execution_count": 138,
   "metadata": {},
   "outputs": [],
   "source": [
    "def get_solarhourangle(alpha, phi, delta, isMorning=True):\n",
    "    alpha, phi, delta = math.radians(alpha), math.radians(phi), math.radians(delta)\n",
    "    a = (math.tan(alpha) ** 2) * (math.sin(phi) ** 2) + 1\n",
    "    b = -math.sin(2 * phi) * math.tan(delta) * (math.tan(alpha) ** 2)\n",
    "    c = (math.tan(alpha) ** 2) * (math.cos(phi) ** 2) * (math.tan(delta) ** 2) - 1\n",
    "\n",
    "    gamma = min(\n",
    "        math.acos((-b + math.sqrt(b ** 2 - 4 * a * c)) / (2 * a)),\n",
    "        math.acos((-b - math.sqrt(b ** 2 - 4 * a * c)) / (2 * a)),\n",
    "    )\n",
    "\n",
    "    if not isMorning:\n",
    "        gamma *= -1\n",
    "\n",
    "    return math.degrees(gamma)\n",
    "\n",
    "\n",
    "omega = get_solarhourangle(ALPHA_S, LAT, delta, False)\n"
   ]
  },
  {
   "cell_type": "markdown",
   "metadata": {},
   "source": [
    "## Solar Elevation\n",
    "\n",
    "$$ h_s = \\arcsin ( \\sin \\phi \\sin \\delta + \\cos \\phi \\cos \\delta \\cos \\Omega) $$\n"
   ]
  },
  {
   "cell_type": "code",
   "execution_count": 140,
   "metadata": {},
   "outputs": [
    {
     "data": {
      "text/plain": [
       "59.8185370521673"
      ]
     },
     "execution_count": 140,
     "metadata": {},
     "output_type": "execute_result"
    }
   ],
   "source": [
    "def get_solarelevation(phi, delta, omega):\n",
    "    phi, delta, omega = math.radians(phi), math.radians(delta), math.radians(omega)\n",
    "    h_s = math.asin(\n",
    "        math.sin(phi) * math.sin(delta)\n",
    "        + math.cos(phi) * math.cos(delta) * math.cos(omega)\n",
    "    )\n",
    "    return math.degrees(h_s)\n",
    "\n",
    "\n",
    "h_s = get_solarelevation(LAT, delta, omega)\n",
    "h_s\n"
   ]
  },
  {
   "cell_type": "markdown",
   "metadata": {},
   "source": [
    "## $R_{HS}$ and $R_{CS}$\n",
    "\n",
    "$$ H = \\tan h_s (L_{A2B} \\cos (\\alpha_{s} - \\alpha_{sA}) + \\sqrt{L_{A1A2}^2 - L_{A2B}^2 \\sin^2 (\\alpha_s - \\alpha_sA)})$$\n",
    "\n",
    "$$ R_{HS} = \\frac{H}{L_{A2B}} $$\n",
    "$$ R_{CS} = \\frac{H}{L_{A1A2}} $$\n"
   ]
  },
  {
   "cell_type": "code",
   "execution_count": 150,
   "metadata": {},
   "outputs": [
    {
     "data": {
      "text/plain": [
       "(2.1993573171586336, 6.437992146745999)"
      ]
     },
     "execution_count": 150,
     "metadata": {},
     "output_type": "execute_result"
    }
   ],
   "source": [
    "def get_ratios(hs, alpha_s, alpha_sa, la2b, la1a2):\n",
    "    hs, alpha_diff = math.radians(hs), math.radians(alpha_s - alpha_sa)\n",
    "\n",
    "    H = math.tan(hs) * (\n",
    "        la2b * math.cos(alpha_diff)\n",
    "        + math.sqrt((la1a2 ** 2) - (la1a2 ** 2) * (math.sin(alpha_diff) ** 2))\n",
    "    )\n",
    "    return H / la2b, H / la1a2\n",
    "\n",
    "rhs, rcs = get_ratios(h_s, ALPHA_S, ALPHA_SA, LA2B, LA1A2)\n",
    "\n",
    "rhs, rcs"
   ]
  },
  {
   "cell_type": "markdown",
   "metadata": {},
   "source": [
    "## Height Estimation\n",
    "\n",
    "$$ H = R_{HS}L_{A2B} $$\n",
    "$$ H = R_{CS}L_{A2B} $$\n"
   ]
  },
  {
   "cell_type": "code",
   "execution_count": 177,
   "metadata": {},
   "outputs": [
    {
     "name": "stdout",
     "output_type": "stream",
     "text": [
      "Estimated Heights: [19.82, 20.34, 20.08, 20.12, 20.81, 21.6, 21.14, 20.32, 16.21, 15.75, 15.92, 17.0, 13.39, 14.49, 14.43, 17.11, 17.31]\n",
      "Mean absolute error: 1.5270588235294118\n"
     ]
    }
   ],
   "source": [
    "def estimate_height(length, ratio):\n",
    "    return length * ratio\n",
    "\n",
    "\n",
    "actual_height = [\n",
    "    19.56,\n",
    "    18.13,\n",
    "    16.25,\n",
    "    18.52,\n",
    "    19.24,\n",
    "    18.69,\n",
    "    19.48,\n",
    "    18.45,\n",
    "    14.91,\n",
    "    14.08,\n",
    "    14.94,\n",
    "    15.21,\n",
    "    12.94,\n",
    "    14.07,\n",
    "    13.64,\n",
    "    15.40,\n",
    "    16.37,\n",
    "]\n",
    "\n",
    "heights = [\n",
    "    9.01,\n",
    "    9.25,\n",
    "    9.13,\n",
    "    9.15,\n",
    "    9.46,\n",
    "    9.82,\n",
    "    9.61,\n",
    "    9.24,\n",
    "    7.37,\n",
    "    7.16,\n",
    "    7.24,\n",
    "    7.73,\n",
    "    6.09,\n",
    "    6.59,\n",
    "    6.56,\n",
    "    7.78,\n",
    "    7.87,\n",
    "]\n",
    "\n",
    "error = []\n",
    "estimations = []\n",
    "for h, y in zip(heights, actual_height):\n",
    "    h = round(estimate_height(h, rhs), 2)\n",
    "    estimations.append(h)\n",
    "    error.append(h - y)\n",
    "\n",
    "print(\"Estimated Heights:\", estimations)\n",
    "\n",
    "print(\"Mean absolute error:\", sum([abs(x) for x in error]) / len(error))\n"
   ]
  }
 ],
 "metadata": {
  "interpreter": {
   "hash": "edfc05b9e597d528a1b02a1f9b9e12f45087c2ac2fbe7b8c058655edf824aeae"
  },
  "kernelspec": {
   "display_name": "Python 3.8.12 64-bit (conda)",
   "language": "python",
   "name": "python3"
  },
  "language_info": {
   "codemirror_mode": {
    "name": "ipython",
    "version": 3
   },
   "file_extension": ".py",
   "mimetype": "text/x-python",
   "name": "python",
   "nbconvert_exporter": "python",
   "pygments_lexer": "ipython3",
   "version": "3.8.12"
  },
  "orig_nbformat": 4
 },
 "nbformat": 4,
 "nbformat_minor": 2
}
